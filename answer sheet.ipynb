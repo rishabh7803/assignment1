{
 "cells": [
  {
   "cell_type": "code",
   "execution_count": 1,
   "id": "eda84e43-5c8c-4a23-9171-07b3c3bb4cdd",
   "metadata": {},
   "outputs": [],
   "source": [
    "#1\n",
    "#create one variable containing following type of data:"
   ]
  },
  {
   "cell_type": "code",
   "execution_count": 2,
   "id": "bbdeadb3-3c1b-4aee-b310-807518cb42d7",
   "metadata": {},
   "outputs": [],
   "source": [
    "a=[\"rishabh\",[1,2,5.25],5.253,(4,5.636)]"
   ]
  },
  {
   "cell_type": "code",
   "execution_count": 3,
   "id": "df0a14ca-8136-4458-abc5-75b57f6fd046",
   "metadata": {},
   "outputs": [
    {
     "name": "stdout",
     "output_type": "stream",
     "text": [
      "<class 'list'>\n"
     ]
    }
   ],
   "source": [
    "print(type(a))"
   ]
  },
  {
   "cell_type": "code",
   "execution_count": 4,
   "id": "da631dce-89b1-4af4-986b-3b26a8ca0827",
   "metadata": {},
   "outputs": [
    {
     "name": "stdout",
     "output_type": "stream",
     "text": [
      "<class 'str'>\n",
      "<class 'list'>\n",
      "<class 'float'>\n",
      "<class 'tuple'>\n"
     ]
    }
   ],
   "source": [
    "for i in a:\n",
    "    print(type(i))"
   ]
  },
  {
   "cell_type": "code",
   "execution_count": 7,
   "id": "45269ff9-e798-4227-8125-141863cde3e0",
   "metadata": {},
   "outputs": [],
   "source": [
    "#2\n",
    "#Given are some following variables containing data:\n",
    "#(i) var1 = ‘ ‘\n",
    "#(ii) var2 = ‘[ DS , ML , Python]’\n",
    "#(iii) var3 = [ ‘DS’ , ’ML’ , ‘Python’ ]\n",
    "#(iv) var4 = 1."
   ]
  },
  {
   "cell_type": "code",
   "execution_count": 8,
   "id": "14c0e135-6305-44a6-a15a-3910d4337eab",
   "metadata": {},
   "outputs": [],
   "source": [
    "a=\"gdfkg\""
   ]
  },
  {
   "cell_type": "code",
   "execution_count": 9,
   "id": "9d9822cb-182d-4833-b388-e5e0b5190d20",
   "metadata": {},
   "outputs": [
    {
     "data": {
      "text/plain": [
       "str"
      ]
     },
     "execution_count": 9,
     "metadata": {},
     "output_type": "execute_result"
    }
   ],
   "source": [
    "type(a)"
   ]
  },
  {
   "cell_type": "code",
   "execution_count": 10,
   "id": "b02b2e97-e5ff-45c6-825f-c385106ff282",
   "metadata": {},
   "outputs": [],
   "source": [
    "b=\"[hf,gjf,gjfoj]\""
   ]
  },
  {
   "cell_type": "code",
   "execution_count": 12,
   "id": "dd8c9d38-7155-42ba-865b-e83c834189a2",
   "metadata": {},
   "outputs": [
    {
     "data": {
      "text/plain": [
       "str"
      ]
     },
     "execution_count": 12,
     "metadata": {},
     "output_type": "execute_result"
    }
   ],
   "source": [
    "type(b)"
   ]
  },
  {
   "cell_type": "code",
   "execution_count": 13,
   "id": "59a7f6bd-0230-4431-9af2-9852e5c8a80b",
   "metadata": {},
   "outputs": [],
   "source": [
    "c=['sd','sdg','dgiuhg']"
   ]
  },
  {
   "cell_type": "code",
   "execution_count": 14,
   "id": "6350b561-7d5b-4df2-876a-78a96d3b95cb",
   "metadata": {},
   "outputs": [
    {
     "data": {
      "text/plain": [
       "list"
      ]
     },
     "execution_count": 14,
     "metadata": {},
     "output_type": "execute_result"
    }
   ],
   "source": [
    "type(c)"
   ]
  },
  {
   "cell_type": "code",
   "execution_count": 15,
   "id": "b070bacf-c3c5-4ea0-af1d-6f7dc3bd7584",
   "metadata": {},
   "outputs": [],
   "source": [
    "d=1"
   ]
  },
  {
   "cell_type": "code",
   "execution_count": 16,
   "id": "2927f59e-0106-418c-8d10-ab0dc8566507",
   "metadata": {},
   "outputs": [
    {
     "data": {
      "text/plain": [
       "int"
      ]
     },
     "execution_count": 16,
     "metadata": {},
     "output_type": "execute_result"
    }
   ],
   "source": [
    "type(d)"
   ]
  },
  {
   "cell_type": "code",
   "execution_count": 26,
   "id": "02ac8650-9b08-4137-9a77-ad1084f9d828",
   "metadata": {},
   "outputs": [],
   "source": [
    "#3\n",
    "#Explain the use of the following operators using an example:\n",
    "#(i) /\n",
    "#(ii) %\n",
    "#(iii) //\n",
    "#(iv) **"
   ]
  },
  {
   "cell_type": "code",
   "execution_count": 18,
   "id": "032e38f2-8d42-488c-8114-4e620a664319",
   "metadata": {},
   "outputs": [],
   "source": [
    "#the simble / is use of devide"
   ]
  },
  {
   "cell_type": "code",
   "execution_count": 19,
   "id": "009d2b01-c23c-4a27-acf5-4dc3f9e8ac82",
   "metadata": {},
   "outputs": [
    {
     "data": {
      "text/plain": [
       "0.8333333333333334"
      ]
     },
     "execution_count": 19,
     "metadata": {},
     "output_type": "execute_result"
    }
   ],
   "source": [
    "5/6"
   ]
  },
  {
   "cell_type": "code",
   "execution_count": 20,
   "id": "33d4646b-fdad-4150-af31-6bd87120799d",
   "metadata": {},
   "outputs": [],
   "source": [
    "#the symbole % is for remainder"
   ]
  },
  {
   "cell_type": "code",
   "execution_count": 21,
   "id": "1777e0ba-ef04-4c7f-925f-87686c4b8152",
   "metadata": {},
   "outputs": [
    {
     "data": {
      "text/plain": [
       "3"
      ]
     },
     "execution_count": 21,
     "metadata": {},
     "output_type": "execute_result"
    }
   ],
   "source": [
    "8%5"
   ]
  },
  {
   "cell_type": "code",
   "execution_count": 22,
   "id": "61c94263-2b80-4932-94ae-5a25ff6b9281",
   "metadata": {},
   "outputs": [],
   "source": [
    "# the symbole // is used for how many tymes divide"
   ]
  },
  {
   "cell_type": "code",
   "execution_count": 23,
   "id": "9b78592b-67ec-4a4c-a7a7-26ad6620c7dd",
   "metadata": {},
   "outputs": [
    {
     "data": {
      "text/plain": [
       "17"
      ]
     },
     "execution_count": 23,
     "metadata": {},
     "output_type": "execute_result"
    }
   ],
   "source": [
    "89//5"
   ]
  },
  {
   "cell_type": "code",
   "execution_count": 24,
   "id": "f89096b9-7666-469b-aaaf-d61065507a8c",
   "metadata": {},
   "outputs": [],
   "source": [
    "#the symbole ** is used for exponent power"
   ]
  },
  {
   "cell_type": "code",
   "execution_count": 25,
   "id": "266c0e5c-bb87-42e8-9364-9b5f006fe0ec",
   "metadata": {},
   "outputs": [
    {
     "data": {
      "text/plain": [
       "4096"
      ]
     },
     "execution_count": 25,
     "metadata": {},
     "output_type": "execute_result"
    }
   ],
   "source": [
    "4**6"
   ]
  },
  {
   "cell_type": "code",
   "execution_count": 28,
   "id": "e9407bdd-cb65-4ef1-9a4a-043bf115c220",
   "metadata": {},
   "outputs": [],
   "source": [
    "#4\n",
    "#Create a list of length 10 of your choice containing multiple types of data. Using for loop print the\n",
    "#element and its data type."
   ]
  },
  {
   "cell_type": "code",
   "execution_count": 29,
   "id": "7003ac4b-a6ee-4d8d-8e96-27391b6a8fac",
   "metadata": {},
   "outputs": [],
   "source": [
    "y=[4,44,555,55,5.256,'dgkjdsv',True,'dfgdfg','fgdf',55]"
   ]
  },
  {
   "cell_type": "code",
   "execution_count": 44,
   "id": "49f8a869-21bf-4911-b615-5f7037068537",
   "metadata": {},
   "outputs": [
    {
     "name": "stdout",
     "output_type": "stream",
     "text": [
      "4\n",
      "<class 'int'>\n",
      "44\n",
      "<class 'int'>\n",
      "555\n",
      "<class 'int'>\n",
      "55\n",
      "<class 'int'>\n",
      "5.256\n",
      "<class 'float'>\n",
      "dgkjdsv\n",
      "<class 'str'>\n",
      "True\n",
      "<class 'bool'>\n",
      "dfgdfg\n",
      "<class 'str'>\n",
      "fgdf\n",
      "<class 'str'>\n",
      "55\n",
      "<class 'int'>\n"
     ]
    }
   ],
   "source": [
    "i=0\n",
    "y[i]\n",
    "while i<10:\n",
    "    print(y[i])\n",
    "    print(type(y[i]))\n",
    "    i=i+1"
   ]
  },
  {
   "cell_type": "code",
   "execution_count": 12,
   "id": "cd5311a8-69fa-4884-9b90-2352fb98beda",
   "metadata": {},
   "outputs": [
    {
     "name": "stdout",
     "output_type": "stream",
     "text": [
      "1\n",
      "<class 'int'>\n",
      "2\n",
      "<class 'int'>\n",
      "3\n",
      "<class 'int'>\n",
      "4\n",
      "<class 'int'>\n",
      "5\n",
      "<class 'int'>\n",
      "6\n",
      "<class 'int'>\n",
      "7\n",
      "<class 'int'>\n",
      "True\n",
      "<class 'bool'>\n",
      "5.5\n",
      "<class 'float'>\n",
      "sjgh\n",
      "<class 'str'>\n"
     ]
    }
   ],
   "source": [
    "x=[1,2,3,4,5,6,7,True,5.5,'sjgh']\n",
    "for i in x:\n",
    "    print(i)\n",
    "    print(type(i))"
   ]
  },
  {
   "cell_type": "code",
   "execution_count": 45,
   "id": "7611e78a-df03-4626-b4ac-9db5afa11d2d",
   "metadata": {},
   "outputs": [],
   "source": [
    "#Q5. Using a while loop, verify if the number A is purely divisible by number B and if so then how many\n",
    "#times it can be divisible."
   ]
  },
  {
   "cell_type": "code",
   "execution_count": 9,
   "id": "d4f3da89-50f1-488f-8ab0-fcf11513fe3e",
   "metadata": {},
   "outputs": [
    {
     "name": "stdin",
     "output_type": "stream",
     "text": [
      "Enter number A:  1425\n",
      "Enter number B:  5\n"
     ]
    },
    {
     "ename": "NameError",
     "evalue": "name 'divisions' is not defined",
     "output_type": "error",
     "traceback": [
      "\u001b[0;31m---------------------------------------------------------------------------\u001b[0m",
      "\u001b[0;31mNameError\u001b[0m                                 Traceback (most recent call last)",
      "Cell \u001b[0;32mIn[9], line 5\u001b[0m\n\u001b[1;32m      3\u001b[0m \u001b[38;5;28;01mwhile\u001b[39;00m A \u001b[38;5;241m%\u001b[39m B \u001b[38;5;241m==\u001b[39m \u001b[38;5;241m0\u001b[39m:\n\u001b[1;32m      4\u001b[0m     A \u001b[38;5;241m/\u001b[39m\u001b[38;5;241m=\u001b[39m B  \u001b[38;5;66;03m# Divide A by B\u001b[39;00m\n\u001b[0;32m----> 5\u001b[0m     divisions \u001b[38;5;241m+\u001b[39m\u001b[38;5;241m=\u001b[39m \u001b[38;5;241m1\u001b[39m  \u001b[38;5;66;03m# Increment the counter\u001b[39;00m\n\u001b[1;32m      6\u001b[0m \u001b[38;5;28;01mif\u001b[39;00m divisions \u001b[38;5;241m>\u001b[39m \u001b[38;5;241m0\u001b[39m:\n\u001b[1;32m      7\u001b[0m      \u001b[38;5;28mprint\u001b[39m(\u001b[38;5;124mf\u001b[39m\u001b[38;5;124m\"\u001b[39m\u001b[38;5;132;01m{\u001b[39;00mA\u001b[38;5;132;01m}\u001b[39;00m\u001b[38;5;124m is divisible by \u001b[39m\u001b[38;5;132;01m{\u001b[39;00mB\u001b[38;5;132;01m}\u001b[39;00m\u001b[38;5;124m \u001b[39m\u001b[38;5;132;01m{\u001b[39;00mdivisions\u001b[38;5;132;01m}\u001b[39;00m\u001b[38;5;124m times.\u001b[39m\u001b[38;5;124m\"\u001b[39m)\n",
      "\u001b[0;31mNameError\u001b[0m: name 'divisions' is not defined"
     ]
    }
   ],
   "source": [
    "A = int(input(\"Enter number A: \"))\n",
    "B = int(input(\"Enter number B: \"))\n",
    "while A % B == 0:\n",
    "    divisions += 1  # Increment the counter\n",
    "if divisions > 0:\n",
    "     print(f\"{A} is divisible by {B} {divisions} times.\")\n",
    "else:\n",
    "     print(f\"{A} is not divisible by {B}.\")"
   ]
  },
  {
   "cell_type": "markdown",
   "id": "668d6ea7-741b-4fdc-98bf-793276690b47",
   "metadata": {},
   "source": [
    "##### def count_divisible(A, B):\n",
    "    count = 0\n",
    "    while A % B == 0:\n",
    "        A /= B\n",
    "        count += 1\n",
    "    return count\n",
    "\n",
    "A = int(input())\n",
    "B = int(input())\n",
    "\n",
    "divisible_count = count_divisible(A, B)\n",
    "\n",
    "if divisible_count > 0:\n",
    "    print(f\"{A} is divisible by {B} {divisible_count} times.\")\n",
    "else:\n",
    "    print(f\"{A} is not divisible by {B}.\")"
   ]
  },
  {
   "cell_type": "code",
   "execution_count": 2,
   "id": "a85c185c-ff04-4e6d-bb0b-1b1311750401",
   "metadata": {},
   "outputs": [
    {
     "name": "stdin",
     "output_type": "stream",
     "text": [
      " 45,5\n"
     ]
    },
    {
     "ename": "ValueError",
     "evalue": "invalid literal for int() with base 10: '45,5'",
     "output_type": "error",
     "traceback": [
      "\u001b[0;31m---------------------------------------------------------------------------\u001b[0m",
      "\u001b[0;31mValueError\u001b[0m                                Traceback (most recent call last)",
      "Cell \u001b[0;32mIn[2], line 1\u001b[0m\n\u001b[0;32m----> 1\u001b[0m a,b\u001b[38;5;241m=\u001b[39m\u001b[38;5;28;43mint\u001b[39;49m\u001b[43m(\u001b[49m\u001b[38;5;28;43minput\u001b[39;49m\u001b[43m(\u001b[49m\u001b[43m)\u001b[49m\u001b[43m)\u001b[49m\n\u001b[1;32m      2\u001b[0m \u001b[38;5;28;01mwhile\u001b[39;00m b\u001b[38;5;241m<\u001b[39m\u001b[38;5;241m=\u001b[39ma:\n\u001b[1;32m      3\u001b[0m     \u001b[38;5;28mprint\u001b[39m(b)\n",
      "\u001b[0;31mValueError\u001b[0m: invalid literal for int() with base 10: '45,5'"
     ]
    }
   ],
   "source": [
    "a,b=int(input())\n",
    "while b<=a:\n",
    "    print(b)\n",
    "    b=b+b"
   ]
  },
  {
   "cell_type": "code",
   "execution_count": 3,
   "id": "aafe6500-e0fc-4a04-967e-d4431802f5b2",
   "metadata": {},
   "outputs": [
    {
     "name": "stdin",
     "output_type": "stream",
     "text": [
      " 45,5\n"
     ]
    },
    {
     "ename": "ValueError",
     "evalue": "invalid literal for int() with base 10: '45,5'",
     "output_type": "error",
     "traceback": [
      "\u001b[0;31m---------------------------------------------------------------------------\u001b[0m",
      "\u001b[0;31mValueError\u001b[0m                                Traceback (most recent call last)",
      "Cell \u001b[0;32mIn[3], line 1\u001b[0m\n\u001b[0;32m----> 1\u001b[0m a, b \u001b[38;5;241m=\u001b[39m \u001b[38;5;28mmap\u001b[39m(\u001b[38;5;28mint\u001b[39m, \u001b[38;5;28minput\u001b[39m()\u001b[38;5;241m.\u001b[39msplit())\n\u001b[1;32m      3\u001b[0m \u001b[38;5;28;01mwhile\u001b[39;00m b \u001b[38;5;241m<\u001b[39m\u001b[38;5;241m=\u001b[39m a:\n\u001b[1;32m      4\u001b[0m     \u001b[38;5;28mprint\u001b[39m(b)\n",
      "\u001b[0;31mValueError\u001b[0m: invalid literal for int() with base 10: '45,5'"
     ]
    }
   ],
   "source": [
    "a, b = map(int, input().split())\n",
    "\n",
    "while b <= a:\n",
    "    print(b)\n",
    "    b += b"
   ]
  },
  {
   "cell_type": "code",
   "execution_count": null,
   "id": "f1322b8b-084e-4c6f-8876-59042938eff0",
   "metadata": {},
   "outputs": [],
   "source": []
  },
  {
   "cell_type": "code",
   "execution_count": 50,
   "id": "236e02af-2465-47f8-8c63-53113c874863",
   "metadata": {},
   "outputs": [],
   "source": [
    "#6\n",
    "#Create a list containing 25 int type data. Using for loop and if-else condition print if the element is\n",
    "#divisible by 3 or not."
   ]
  },
  {
   "cell_type": "code",
   "execution_count": 51,
   "id": "fdf39808-5e55-4c41-929a-9d9fc9bacdde",
   "metadata": {},
   "outputs": [],
   "source": [
    "p=[4,5,6,6,1,5,2,5,1,5,1,2,5,1,5,1,52,8,9,4,1,65,15,5,6]"
   ]
  },
  {
   "cell_type": "code",
   "execution_count": 58,
   "id": "699b42c3-8a54-4589-a3a5-e9ea39188cee",
   "metadata": {},
   "outputs": [
    {
     "name": "stdout",
     "output_type": "stream",
     "text": [
      "4 not divisible\n",
      "5 not divisible\n",
      "6 is divisible\n",
      "6 is divisible\n",
      "1 not divisible\n",
      "5 not divisible\n",
      "2 not divisible\n",
      "5 not divisible\n",
      "1 not divisible\n",
      "5 not divisible\n",
      "1 not divisible\n",
      "2 not divisible\n",
      "5 not divisible\n",
      "1 not divisible\n",
      "5 not divisible\n",
      "1 not divisible\n",
      "52 not divisible\n",
      "8 not divisible\n",
      "9 is divisible\n",
      "4 not divisible\n",
      "1 not divisible\n",
      "65 not divisible\n",
      "15 is divisible\n",
      "5 not divisible\n",
      "6 is divisible\n"
     ]
    }
   ],
   "source": [
    "p=[4,5,6,6,1,5,2,5,1,5,1,2,5,1,5,1,52,8,9,4,1,65,15,5,6]\n",
    "for i in p:\n",
    "    if i%3==0:\n",
    "     print(f\"{i} is divisible\")\n",
    "    else:\n",
    "        print(f\"{i} not divisible\")"
   ]
  },
  {
   "cell_type": "code",
   "execution_count": 59,
   "id": "6a3fa859-f011-493b-aee3-abaef81bac3b",
   "metadata": {},
   "outputs": [],
   "source": [
    "#Q7. What do you understand about mutable and immutable data types? Give examples for both showing\n",
    "#this property."
   ]
  },
  {
   "cell_type": "code",
   "execution_count": 60,
   "id": "a255dc8a-eb7c-48f1-af79-52a1894e707d",
   "metadata": {},
   "outputs": [],
   "source": [
    "#mutable in which function we can change and immutable if can't change anything \n",
    "#mutable type touples and string       immutable type list\n",
    "#Mutable objects in Python are those that can be changed after they are created, like lists or dictionaries. Immutable objects, on the other hand, cannot be changed after they are created, such as strings, integers, or tuples"
   ]
  },
  {
   "cell_type": "code",
   "execution_count": 61,
   "id": "770ceed3-fff4-421a-b47f-1796f4eee25d",
   "metadata": {},
   "outputs": [],
   "source": [
    "t=[4,'dgd',5.25]"
   ]
  },
  {
   "cell_type": "code",
   "execution_count": 62,
   "id": "3cc62de5-5d0d-42fd-8fc5-448fb0537939",
   "metadata": {},
   "outputs": [],
   "source": [
    "t[1]=5"
   ]
  },
  {
   "cell_type": "code",
   "execution_count": 63,
   "id": "57d8685a-91e3-4ea8-8335-c830ac70fe4e",
   "metadata": {},
   "outputs": [
    {
     "data": {
      "text/plain": [
       "[4, 5, 5.25]"
      ]
     },
     "execution_count": 63,
     "metadata": {},
     "output_type": "execute_result"
    }
   ],
   "source": [
    "t"
   ]
  },
  {
   "cell_type": "code",
   "execution_count": 64,
   "id": "f1b54391-90b4-4a31-8303-d5e64532c576",
   "metadata": {},
   "outputs": [],
   "source": [
    "#and for immutable "
   ]
  },
  {
   "cell_type": "code",
   "execution_count": 65,
   "id": "1785c819-034f-4074-97d5-d119c31182c2",
   "metadata": {},
   "outputs": [],
   "source": [
    "t=(7,8,9.5)"
   ]
  },
  {
   "cell_type": "code",
   "execution_count": 66,
   "id": "1c30a0ee-0647-4a41-aade-991f99dbba75",
   "metadata": {},
   "outputs": [
    {
     "data": {
      "text/plain": [
       "8"
      ]
     },
     "execution_count": 66,
     "metadata": {},
     "output_type": "execute_result"
    }
   ],
   "source": [
    "t[1]"
   ]
  },
  {
   "cell_type": "code",
   "execution_count": 67,
   "id": "b8e91fce-e712-4b91-8752-b61d7b0be4f6",
   "metadata": {},
   "outputs": [
    {
     "ename": "TypeError",
     "evalue": "'tuple' object does not support item assignment",
     "output_type": "error",
     "traceback": [
      "\u001b[0;31m---------------------------------------------------------------------------\u001b[0m",
      "\u001b[0;31mTypeError\u001b[0m                                 Traceback (most recent call last)",
      "Cell \u001b[0;32mIn[67], line 1\u001b[0m\n\u001b[0;32m----> 1\u001b[0m \u001b[43mt\u001b[49m\u001b[43m[\u001b[49m\u001b[38;5;241;43m1\u001b[39;49m\u001b[43m]\u001b[49m\u001b[38;5;241m=\u001b[39m\u001b[38;5;241m5\u001b[39m\n",
      "\u001b[0;31mTypeError\u001b[0m: 'tuple' object does not support item assignment"
     ]
    }
   ],
   "source": [
    "t[1]=5"
   ]
  },
  {
   "cell_type": "code",
   "execution_count": 1,
   "id": "2bdd28f2-8dc4-4e2c-9c97-fd12ba90cbb5",
   "metadata": {},
   "outputs": [
    {
     "name": "stdin",
     "output_type": "stream",
     "text": [
      " 455,5\n"
     ]
    },
    {
     "ename": "ValueError",
     "evalue": "invalid literal for int() with base 10: '455,5'",
     "output_type": "error",
     "traceback": [
      "\u001b[0;31m---------------------------------------------------------------------------\u001b[0m",
      "\u001b[0;31mValueError\u001b[0m                                Traceback (most recent call last)",
      "Cell \u001b[0;32mIn[1], line 1\u001b[0m\n\u001b[0;32m----> 1\u001b[0m x\u001b[38;5;241m=\u001b[39m \u001b[38;5;28;43mint\u001b[39;49m\u001b[43m(\u001b[49m\u001b[38;5;28;43minput\u001b[39;49m\u001b[43m(\u001b[49m\u001b[43m)\u001b[49m\u001b[43m)\u001b[49m\n\u001b[1;32m      2\u001b[0m y \u001b[38;5;241m=\u001b[39m \u001b[38;5;28mint\u001b[39m(\u001b[38;5;28minput\u001b[39m())\n\u001b[1;32m      4\u001b[0m count \u001b[38;5;241m=\u001b[39m \u001b[38;5;241m0\u001b[39m\n",
      "\u001b[0;31mValueError\u001b[0m: invalid literal for int() with base 10: '455,5'"
     ]
    }
   ],
   "source": [
    "x= int(input())\n",
    "y = int(input())\n",
    "\n",
    "count = 0\n",
    "xt=x\n",
    "\n",
    "while xt % y == 0:\n",
    "    xt= xt//y\n",
    "    count += 1\n",
    "\n",
    "if count > 0:\n",
    "    print(count)\n",
    "else:\n",
    "    print(\"NO\")\n",
    "    "
   ]
  },
  {
   "cell_type": "code",
   "execution_count": null,
   "id": "84f572b2-ae61-464c-be63-8c506c30e433",
   "metadata": {},
   "outputs": [],
   "source": []
  }
 ],
 "metadata": {
  "kernelspec": {
   "display_name": "Python 3 (ipykernel)",
   "language": "python",
   "name": "python3"
  },
  "language_info": {
   "codemirror_mode": {
    "name": "ipython",
    "version": 3
   },
   "file_extension": ".py",
   "mimetype": "text/x-python",
   "name": "python",
   "nbconvert_exporter": "python",
   "pygments_lexer": "ipython3",
   "version": "3.10.8"
  }
 },
 "nbformat": 4,
 "nbformat_minor": 5
}
